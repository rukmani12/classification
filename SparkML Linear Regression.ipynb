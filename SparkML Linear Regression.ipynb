{
    "nbformat_minor": 1, 
    "cells": [
        {
            "execution_count": 1, 
            "cell_type": "code", 
            "metadata": {}, 
            "outputs": [
                {
                    "output_type": "stream", 
                    "name": "stdout", 
                    "text": "Waiting for a Spark session to start...\nSpark Initialization Done! ApplicationId = app-20190903070647-0000\nKERNEL_ID = 49492b07-a361-4d7a-ade0-ef8355c2a218\n"
                }
            ], 
            "source": "# The code was removed by Watson Studio for sharing."
        }, 
        {
            "execution_count": 2, 
            "cell_type": "code", 
            "metadata": {}, 
            "outputs": [], 
            "source": "df.createOrReplaceTempView('df')\ndf_energy = spark.sql(\"\"\"\nselect sqrt(sum(x*x)+sum(y*y)+sum(z*z)) as label, class from df group by class\n\"\"\")      \ndf_energy.createOrReplaceTempView('df_energy')          "
        }, 
        {
            "execution_count": 3, 
            "cell_type": "code", 
            "metadata": {}, 
            "outputs": [
                {
                    "output_type": "stream", 
                    "name": "stdout", 
                    "text": "+------------------+--------------+\n|             label|         class|\n+------------------+--------------+\n| 8959.680239829991| Use_telephone|\n| 9737.511232342687| Standup_chair|\n| 12542.96539897962|      Eat_meat|\n|13225.945637269193|     Getup_bed|\n|15003.269043778426|   Drink_glass|\n|14454.885091207056|    Pour_water|\n|10616.408809008817|     Comb_hair|\n|11082.626493751379|  Climb_stairs|\n|10261.338314274606| Sitdown_chair|\n|6783.4063714331605|   Liedown_bed|\n| 7173.493500380411|Descend_stairs|\n| 11785.39634462923|   Brush_teeth|\n| 6071.460120926432|      Eat_soup|\n+------------------+--------------+\n\n"
                }
            ], 
            "source": "df_energy.show()"
        }, 
        {
            "execution_count": 4, 
            "cell_type": "code", 
            "metadata": {}, 
            "outputs": [], 
            "source": "df_join = spark.sql('select * from df inner join df_energy on df.class=df_energy.class')"
        }, 
        {
            "execution_count": 5, 
            "cell_type": "code", 
            "metadata": {}, 
            "outputs": [
                {
                    "output_type": "stream", 
                    "name": "stdout", 
                    "text": "+---+---+---+--------------------+------------+------------------+------------+\n|  x|  y|  z|              source|       class|             label|       class|\n+---+---+---+--------------------+------------+------------------+------------+\n| 30| 36| 52|Accelerometer-201...|Climb_stairs|11082.626493751379|Climb_stairs|\n| 30| 36| 32|Accelerometer-201...|Climb_stairs|11082.626493751379|Climb_stairs|\n| 32| 30| 36|Accelerometer-201...|Climb_stairs|11082.626493751379|Climb_stairs|\n| 32| 30| 36|Accelerometer-201...|Climb_stairs|11082.626493751379|Climb_stairs|\n| 32| 30| 36|Accelerometer-201...|Climb_stairs|11082.626493751379|Climb_stairs|\n| 32| 33| 36|Accelerometer-201...|Climb_stairs|11082.626493751379|Climb_stairs|\n| 32| 30| 36|Accelerometer-201...|Climb_stairs|11082.626493751379|Climb_stairs|\n| 30| 37| 50|Accelerometer-201...|Climb_stairs|11082.626493751379|Climb_stairs|\n| 31| 37| 50|Accelerometer-201...|Climb_stairs|11082.626493751379|Climb_stairs|\n| 29| 38| 50|Accelerometer-201...|Climb_stairs|11082.626493751379|Climb_stairs|\n| 32| 39| 48|Accelerometer-201...|Climb_stairs|11082.626493751379|Climb_stairs|\n| 32| 41| 46|Accelerometer-201...|Climb_stairs|11082.626493751379|Climb_stairs|\n| 34| 39| 44|Accelerometer-201...|Climb_stairs|11082.626493751379|Climb_stairs|\n| 34| 39| 41|Accelerometer-201...|Climb_stairs|11082.626493751379|Climb_stairs|\n| 31| 39| 42|Accelerometer-201...|Climb_stairs|11082.626493751379|Climb_stairs|\n| 32| 42| 43|Accelerometer-201...|Climb_stairs|11082.626493751379|Climb_stairs|\n| 31| 43| 43|Accelerometer-201...|Climb_stairs|11082.626493751379|Climb_stairs|\n| 28| 46| 44|Accelerometer-201...|Climb_stairs|11082.626493751379|Climb_stairs|\n| 26| 48| 43|Accelerometer-201...|Climb_stairs|11082.626493751379|Climb_stairs|\n| 22| 41| 40|Accelerometer-201...|Climb_stairs|11082.626493751379|Climb_stairs|\n+---+---+---+--------------------+------------+------------------+------------+\nonly showing top 20 rows\n\n"
                }
            ], 
            "source": "df_join.show()"
        }, 
        {
            "execution_count": 6, 
            "cell_type": "code", 
            "metadata": {
                "pixiedust": {
                    "displayParams": {}
                }
            }, 
            "outputs": [], 
            "source": "from pyspark.ml.feature import VectorAssembler\nfrom pyspark.ml.feature import Normalizer\n\n\nvectorAssembler = VectorAssembler(inputCols=[\"x\",\"y\",\"z\"], outputCol=\"features\")\nnormalizer = Normalizer(inputCol=\"features\", outputCol=\"features_norm\", p=1.0)"
        }, 
        {
            "execution_count": 7, 
            "cell_type": "code", 
            "metadata": {}, 
            "outputs": [], 
            "source": "from pyspark.ml.regression import LinearRegression\n\nlr = LinearRegression(maxIter=10, regParam=0.3, elasticNetParam=0.8)"
        }, 
        {
            "execution_count": 8, 
            "cell_type": "code", 
            "metadata": {}, 
            "outputs": [], 
            "source": "from pyspark.ml import Pipeline\npipeline = Pipeline(stages=[vectorAssembler, normalizer,lr])"
        }, 
        {
            "execution_count": 9, 
            "cell_type": "code", 
            "metadata": {}, 
            "outputs": [], 
            "source": "model = pipeline.fit(df_join)"
        }, 
        {
            "execution_count": 10, 
            "cell_type": "code", 
            "metadata": {}, 
            "outputs": [], 
            "source": "prediction = model.transform(df_join)"
        }, 
        {
            "execution_count": 11, 
            "cell_type": "code", 
            "metadata": {}, 
            "outputs": [
                {
                    "output_type": "stream", 
                    "name": "stdout", 
                    "text": "+---+---+---+--------------------+------------+------------------+------------+----------------+--------------------+------------------+\n|  x|  y|  z|              source|       class|             label|       class|        features|       features_norm|        prediction|\n+---+---+---+--------------------+------------+------------------+------------+----------------+--------------------+------------------+\n| 30| 36| 52|Accelerometer-201...|Climb_stairs|11082.626493751379|Climb_stairs|[30.0,36.0,52.0]|[0.25423728813559...|12378.337524478058|\n| 30| 36| 32|Accelerometer-201...|Climb_stairs|11082.626493751379|Climb_stairs|[30.0,36.0,32.0]|[0.30612244897959...|10949.223755865942|\n| 32| 30| 36|Accelerometer-201...|Climb_stairs|11082.626493751379|Climb_stairs|[32.0,30.0,36.0]|[0.32653061224489...|11232.049623881609|\n| 32| 30| 36|Accelerometer-201...|Climb_stairs|11082.626493751379|Climb_stairs|[32.0,30.0,36.0]|[0.32653061224489...|11232.049623881609|\n| 32| 30| 36|Accelerometer-201...|Climb_stairs|11082.626493751379|Climb_stairs|[32.0,30.0,36.0]|[0.32653061224489...|11232.049623881609|\n| 32| 33| 36|Accelerometer-201...|Climb_stairs|11082.626493751379|Climb_stairs|[32.0,33.0,36.0]|[0.31683168316831...|11251.923475263653|\n| 32| 30| 36|Accelerometer-201...|Climb_stairs|11082.626493751379|Climb_stairs|[32.0,30.0,36.0]|[0.32653061224489...|11232.049623881609|\n| 30| 37| 50|Accelerometer-201...|Climb_stairs|11082.626493751379|Climb_stairs|[30.0,37.0,50.0]|[0.25641025641025...|12242.050764744195|\n| 31| 37| 50|Accelerometer-201...|Climb_stairs|11082.626493751379|Climb_stairs|[31.0,37.0,50.0]|[0.26271186440677...| 12260.42617327286|\n| 29| 38| 50|Accelerometer-201...|Climb_stairs|11082.626493751379|Climb_stairs|[29.0,38.0,50.0]|[0.24786324786324...|12230.299973342877|\n| 32| 39| 48|Accelerometer-201...|Climb_stairs|11082.626493751379|Climb_stairs|[32.0,39.0,48.0]|[0.26890756302521...|12149.139439195013|\n| 32| 41| 46|Accelerometer-201...|Climb_stairs|11082.626493751379|Climb_stairs|[32.0,41.0,46.0]|[0.26890756302521...|12019.477296588495|\n| 34| 39| 44|Accelerometer-201...|Climb_stairs|11082.626493751379|Climb_stairs|[34.0,39.0,44.0]|[0.29059829059829...| 11900.06750252992|\n| 34| 39| 41|Accelerometer-201...|Climb_stairs|11082.626493751379|Climb_stairs|[34.0,39.0,41.0]|[0.29824561403508...|11685.700437238103|\n| 31| 39| 42|Accelerometer-201...|Climb_stairs|11082.626493751379|Climb_stairs|[31.0,39.0,42.0]|[0.27678571428571...| 11702.02990008271|\n| 32| 42| 43|Accelerometer-201...|Climb_stairs|11082.626493751379|Climb_stairs|[32.0,42.0,43.0]|[0.27350427350427...|11811.734848424026|\n| 31| 43| 43|Accelerometer-201...|Climb_stairs|11082.626493751379|Climb_stairs|[31.0,43.0,43.0]|[0.26495726495726...|11799.984057022708|\n| 28| 46| 44|Accelerometer-201...|Climb_stairs|11082.626493751379|Climb_stairs|[28.0,46.0,44.0]|[0.23728813559322...|11836.187371249358|\n| 26| 48| 43|Accelerometer-201...|Climb_stairs|11082.626493751379|Climb_stairs|[26.0,48.0,43.0]|[0.22222222222222...|11741.230100016117|\n| 22| 41| 40|Accelerometer-201...|Climb_stairs|11082.626493751379|Climb_stairs|[22.0,41.0,40.0]|[0.21359223300970...|11406.989080718198|\n+---+---+---+--------------------+------------+------------------+------------+----------------+--------------------+------------------+\nonly showing top 20 rows\n\n"
                }
            ], 
            "source": "prediction.show()"
        }, 
        {
            "execution_count": 8, 
            "cell_type": "code", 
            "metadata": {}, 
            "outputs": [
                {
                    "execution_count": 8, 
                    "metadata": {}, 
                    "data": {
                        "text/plain": "0.0912330479847846"
                    }, 
                    "output_type": "execute_result"
                }
            ], 
            "source": "model.stages[2].summary.r2\n"
        }, 
        {
            "execution_count": null, 
            "cell_type": "code", 
            "metadata": {}, 
            "outputs": [], 
            "source": ""
        }
    ], 
    "metadata": {
        "kernelspec": {
            "display_name": "Python 3.6 with Spark", 
            "name": "python36", 
            "language": "python3"
        }, 
        "language_info": {
            "mimetype": "text/x-python", 
            "nbconvert_exporter": "python", 
            "version": "3.6.8", 
            "name": "python", 
            "file_extension": ".py", 
            "pygments_lexer": "ipython3", 
            "codemirror_mode": {
                "version": 3, 
                "name": "ipython"
            }
        }
    }, 
    "nbformat": 4
}
