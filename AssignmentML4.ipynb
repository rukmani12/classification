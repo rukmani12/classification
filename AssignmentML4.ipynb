{
    "nbformat_minor": 1, 
    "cells": [
        {
            "source": "This is the last assignment for the Coursera course \"Advanced Machine Learning and Signal Processing\"\n\nAgain, please insert to code to your ApacheCouchDB based Cloudant instance below using the \"Insert Code\" function of Watson Studio (you've done this in Assignment 1 before)\n\n\nDone, just execute all cells one after the other and you are done - just note that in the last one you should update your email address (the one you've used for coursera) and obtain a submission token, you get this from the programming assignment directly on coursera.\n\nPlease fill in the sections labelled with \"###YOUR_CODE_GOES_HERE###\"\n\nThe purpose of this assignment is to learn how feature engineering boosts model performance. You will apply Discrete Fourier Transformation on the accelerometer sensor time series and therefore transforming the dataset from the time to the frequency domain. \n\nAfter that, you\u2019ll use a classification algorithm of your choice to create a model and submit the new predictions to the grader. Done.\n", 
            "cell_type": "markdown", 
            "metadata": {}
        }, 
        {
            "execution_count": 1, 
            "cell_type": "code", 
            "metadata": {}, 
            "outputs": [], 
            "source": "# The code was removed by DSX for sharing."
        }, 
        {
            "source": "Let's create a SparkSession object and put the Cloudant credentials into it", 
            "cell_type": "markdown", 
            "metadata": {}
        }, 
        {
            "execution_count": 2, 
            "cell_type": "code", 
            "metadata": {}, 
            "outputs": [], 
            "source": "spark = SparkSession\\\n    .builder\\\n    .appName(\"Cloudant Spark SQL Example in Python using temp tables\")\\\n    .config(\"cloudant.host\",credentials_1['custom_url'].split('@')[1])\\\n    .config(\"cloudant.username\", credentials_1['username'])\\\n    .config(\"cloudant.password\",credentials_1['password'])\\\n    .getOrCreate()"
        }, 
        {
            "source": "Now it\u2019s time to read the sensor data and create a temporary query table.", 
            "cell_type": "markdown", 
            "metadata": {}
        }, 
        {
            "execution_count": 3, 
            "cell_type": "code", 
            "metadata": {}, 
            "outputs": [], 
            "source": "df=spark.read.load('shake_classification', \"org.apache.bahir.cloudant\")\ndf.createOrReplaceTempView(\"df\")"
        }, 
        {
            "source": "We need to make sure SystemML is installed.\n", 
            "cell_type": "markdown", 
            "metadata": {}
        }, 
        {
            "execution_count": 4, 
            "cell_type": "code", 
            "metadata": {}, 
            "outputs": [
                {
                    "output_type": "stream", 
                    "name": "stdout", 
                    "text": "Collecting systemml\n  Downloading https://files.pythonhosted.org/packages/ec/d4/146cd03f62945bcb1f7cf8fca743e1eeca765e79a0cffe35ce37a65cd78a/systemml-1.1.0.tar.gz (10.5MB)\n\u001b[K    100% |\u2588\u2588\u2588\u2588\u2588\u2588\u2588\u2588\u2588\u2588\u2588\u2588\u2588\u2588\u2588\u2588\u2588\u2588\u2588\u2588\u2588\u2588\u2588\u2588\u2588\u2588\u2588\u2588\u2588\u2588\u2588\u2588| 10.5MB 115kB/s eta 0:00:01\n\u001b[?25hRequirement already satisfied: numpy>=1.8.2 in /usr/local/src/conda3_runtime.v38/home/envs/DSX-Python35-Spark/lib/python3.5/site-packages (from systemml)\nRequirement already satisfied: scipy>=0.15.1 in /usr/local/src/conda3_runtime.v38/home/envs/DSX-Python35-Spark/lib/python3.5/site-packages (from systemml)\nRequirement already satisfied: pandas in /usr/local/src/conda3_runtime.v38/home/envs/DSX-Python35-Spark/lib/python3.5/site-packages (from systemml)\nRequirement already satisfied: scikit-learn in /usr/local/src/conda3_runtime.v38/home/envs/DSX-Python35-Spark/lib/python3.5/site-packages (from systemml)\nRequirement already satisfied: Pillow>=2.0.0 in /usr/local/src/conda3_runtime.v38/home/envs/DSX-Python35-Spark/lib/python3.5/site-packages (from systemml)\nRequirement already satisfied: python-dateutil>=2 in /usr/local/src/conda3_runtime.v38/home/envs/DSX-Python35-Spark/lib/python3.5/site-packages (from pandas->systemml)\nRequirement already satisfied: pytz>=2011k in /usr/local/src/conda3_runtime.v38/home/envs/DSX-Python35-Spark/lib/python3.5/site-packages (from pandas->systemml)\nRequirement already satisfied: olefile in /usr/local/src/conda3_runtime.v38/home/envs/DSX-Python35-Spark/lib/python3.5/site-packages (from Pillow>=2.0.0->systemml)\nRequirement already satisfied: six>=1.5 in /usr/local/src/conda3_runtime.v38/home/envs/DSX-Python35-Spark/lib/python3.5/site-packages (from python-dateutil>=2->pandas->systemml)\nBuilding wheels for collected packages: systemml\n  Running setup.py bdist_wheel for systemml ... \u001b[?25ldone\n\u001b[?25h  Stored in directory: /gpfs/fs01/user/sed3-dfaacfbd5b7e86-34fe57f9860b/.cache/pip/wheels/41/15/aa/437717e51cd25131125b12780c561ccd0de42624d3ca4bad92\nSuccessfully built systemml\nInstalling collected packages: systemml\nSuccessfully installed systemml-1.1.0\n"
                }
            ], 
            "source": "!pip install systemml"
        }, 
        {
            "source": "We\u2019ll use Apache SystemML to implement Discrete Fourier Transformation. This way all computation continues to happen on the Apache Spark cluster for advanced scalability and performance.", 
            "cell_type": "markdown", 
            "metadata": {}
        }, 
        {
            "execution_count": 5, 
            "cell_type": "code", 
            "metadata": {}, 
            "outputs": [], 
            "source": "from systemml import MLContext, dml\nml = MLContext(spark)"
        }, 
        {
            "source": "As you\u2019ve learned from the lecture, implementing Discrete Fourier Transformation in a linear algebra programming language is simple. Apache SystemML DML is such a language and as you can see the implementation is straightforward and doesn\u2019t differ too much from the mathematical definition (Just note that the sum operator has been swapped with a vector dot product using the %*% syntax borrowed from R\n):\n\n<img style=\"float: left;\" src=\"https://wikimedia.org/api/rest_v1/media/math/render/svg/1af0a78dc50bbf118ab6bd4c4dcc3c4ff8502223\">\n\n", 
            "cell_type": "markdown", 
            "metadata": {}
        }, 
        {
            "execution_count": 6, 
            "cell_type": "code", 
            "metadata": {}, 
            "outputs": [], 
            "source": "dml_script = '''\nPI = 3.141592654\nN = nrow(signal)\n\nn = seq(0, N-1, 1)\nk = seq(0, N-1, 1)\n\nM = (n %*% t(k))*(2*PI/N)\n\nXa = cos(M) %*% signal\nXb = sin(M) %*% signal\n\nDFT = cbind(Xa, Xb)\n'''"
        }, 
        {
            "source": "Now it\u2019s time to create a function which takes a single row Apache Spark data frame as argument (the one containing the accelerometer measurement time series for one axis) and returns the Fourier transformation of it. In addition, we are adding an index column for later joining all axis together and renaming the columns to appropriate names. The result of this function is an Apache Spark DataFrame containing the Fourier Transformation of its input in two columns. \n", 
            "cell_type": "markdown", 
            "metadata": {}
        }, 
        {
            "execution_count": 7, 
            "cell_type": "code", 
            "metadata": {}, 
            "outputs": [], 
            "source": "from pyspark.sql.functions import monotonically_increasing_id\n\ndef dft_systemml(signal,name):\n    prog = dml(dml_script).input('signal', signal).output('DFT')\n    \n    return (\n\n    #execute the script inside the SystemML engine running on top of Apache Spark\n    ml.execute(prog) \n     \n         #read result from SystemML execution back as SystemML Matrix\n        .get('DFT') \n     \n         #convert SystemML Matrix to ApacheSpark DataFrame \n        .toDF() \n     \n         #rename default column names\n        .selectExpr('C1 as %sa' % (name), 'C2 as %sb' % (name)) \n     \n         #add unique ID per row for later joining\n        .withColumn(\"id\", monotonically_increasing_id())\n    )\n        \n\n\n"
        }, 
        {
            "source": "Now it\u2019s time to create DataFrames containing for each accelerometer sensor axis and one for each class. This means you\u2019ll get 6 DataFrames. Please implement this using the relational API of DataFrames or SparkSQL.\n", 
            "cell_type": "markdown", 
            "metadata": {}
        }, 
        {
            "execution_count": 51, 
            "cell_type": "code", 
            "metadata": {}, 
            "outputs": [], 
            "source": "x0 = spark.sql(\"SELECT X from df where class = 0\")\ny0 = spark.sql(\"SELECT Y from df where class = 0\")\nz0 = spark.sql(\"SELECT Z from df where class = 0\")\nx1 = spark.sql(\"SELECT X from df where class = 1\")\ny1 = spark.sql(\"SELECT Y from df where class = 1\")\nz1 = spark.sql(\"SELECT Z from df where class = 1\")"
        }, 
        {
            "source": "Since we\u2019ve created this cool DFT function before, we can just call it for each of the 6 DataFrames now. And since the result of this function call is a DataFrame again we can use the pyspark best practice in simply calling methods on it sequentially. So what we are doing is the following:\n\n- Calling DFT for each class and accelerometer sensor axis.\n- Joining them together on the ID column. \n- Re-adding a column containing the class index.\n- Stacking both Dataframes for each classes together\n\n", 
            "cell_type": "markdown", 
            "metadata": {}
        }, 
        {
            "execution_count": 52, 
            "cell_type": "code", 
            "metadata": {}, 
            "outputs": [
                {
                    "output_type": "stream", 
                    "name": "stdout", 
                    "text": "[Stage 33:==================================>                      (6 + 3) / 10]\n[Stage 33:=============================================>           (8 + 2) / 10]\n[Stage 33:===================================================>     (9 + 1) / 10]\nSystemML Statistics:\nTotal execution time:\t\t3.735 sec.\nNumber of executed Spark inst:\t0.\n\n                                                                                \n\n[Stage 37:======================>                                  (4 + 4) / 10]\n[Stage 37:=============================================>           (8 + 2) / 10]\nSystemML Statistics:\nTotal execution time:\t\t2.635 sec.\nNumber of executed Spark inst:\t0.\n\n                                                                                \n\n[Stage 41:==================================>                      (6 + 4) / 10]\nSystemML Statistics:\nTotal execution time:\t\t1.873 sec.\nNumber of executed Spark inst:\t0.\n\n                                                                                \n\n[Stage 45:==================================>                      (6 + 4) / 10]\n[Stage 45:=============================================>           (8 + 2) / 10]\nSystemML Statistics:\nTotal execution time:\t\t3.462 sec.\nNumber of executed Spark inst:\t0.\n\n                                                                                \n\n[Stage 49:==================================>                      (6 + 4) / 10]\n[Stage 49:=============================================>           (8 + 2) / 10]\nSystemML Statistics:\nTotal execution time:\t\t3.771 sec.\nNumber of executed Spark inst:\t0.\n\n                                                                                \n\nSystemML Statistics:\nTotal execution time:\t\t1.936 sec.\nNumber of executed Spark inst:\t0.\n\n                                                                                \n\n+-----------+-------------------+--------------------+-------------------+--------------------+-------------------+-------------------+-----+\n|         id|                 xa|                  xb|                 ya|                  yb|                 za|                 zb|class|\n+-----------+-------------------+--------------------+-------------------+--------------------+-------------------+-------------------+-----+\n|         26| -3.360800898664465| -6.3797317149067485| -3.360800898664465| -6.3797317149067485| -3.360800898664465|-6.3797317149067485|    0|\n|         29| -5.047731979774799| -1.1307512205268118| -5.047731979774799| -1.1307512205268118| -5.417880866455836| -7.919430586183089|    0|\n| 8589934658|  4.579763037629146|   7.943098790523183|  4.579763037629146|   7.943098790523183|  4.579763037629146|  7.943098790523183|    0|\n|17179869487|-10.556550769571798| -13.558586167882687|-10.556550769571798| -13.558586167882687|-10.556550769571798|-13.558586167882687|    0|\n|         65|  -7.71014046469968|-0.18711920155456543|  -7.71014046469968|-0.18711920155456543| -5.251000332664313|  2.546895000025506|    0|\n|        191|-2.8164791697168265| -2.5301118232944386|-2.8164791697168265| -2.5301118232944386|-2.8164791697168265|-2.5301118232944386|    0|\n| 8589934785|-0.5946195724559113|    -5.2947491574761|-0.5946195724559113|    -5.2947491574761|-0.5946195724559113|   -5.2947491574761|    0|\n|17179869191| -3.302515440259334|  -13.07505009089483| -3.302515440259334|  -13.07505009089483| -3.302515440259334| -13.07505009089483|    0|\n|17179869384| 0.6040148355417065| -1.9234805335260552| 0.6040148355417065| -1.9234805335260552| 0.6040148355417065|-1.9234805335260552|    0|\n|25769803846| 16.182159099492566|   5.188520676276266| 16.182159099492566|   5.188520676276266| 16.182159099492566|  5.188520676276266|    0|\n|25769803859| -3.363525309265979|   4.210538369658848|   8.54394430007944|  -6.881372790138105| -3.363525309265979|  4.210538369658848|    0|\n|25769803984|  -8.58338347436126|   3.040530076102451|  -8.58338347436126|   3.040530076102451|  -8.58338347436126|  3.040530076102451|    0|\n|25769804049| -9.614694018459236|  3.6745261545706667| -9.614694018459236|  3.6745261545706667| -9.614694018459236| 3.6745261545706667|    0|\n|        222| 1.8336539759998844|   5.985688200261561| 1.8336539759998844|   5.985688200261561| 1.8336539759998844|  5.985688200261561|    0|\n|        270|   5.42590644529074|   6.173367146587013|   5.42590644529074|   6.173367146587013| -7.808590010382046| -2.833917177849836|    0|\n|        293|-0.9182250413270229|   4.690837860135984|-0.9182250413270229|   4.690837860135984|-0.9182250413270229|  4.690837860135984|    0|\n|17179869241| 0.4353215919237369|  16.454054434816438| 12.626520761546784|   5.160268790212876| 0.4353215919237369| 16.454054434816438|    0|\n|17179869405| 3.4709340274138483|  2.6557211021637723| 3.4709340274138483|  2.6557211021637723| 3.4709340274138483| 2.6557211021637723|    0|\n|17179869430|  5.418436226701438|   8.442793646255575|  5.418436226701438|   8.442793646255575|  5.418436226701438|  8.442793646255575|    0|\n|17179869435| -8.423238563807086|   6.763539418232842| -8.423238563807086|   6.763539418232842| -8.423238563807086|  6.763539418232842|    0|\n+-----------+-------------------+--------------------+-------------------+--------------------+-------------------+-------------------+-----+\nonly showing top 20 rows\n\n"
                }
            ], 
            "source": "from pyspark.sql.functions import lit\n\ndf_class_0 = dft_systemml(x0,'x') \\\n    .join(dft_systemml(y0,'y'), on=['id'], how='inner') \\\n    .join(dft_systemml(z0,'z'), on=['id'], how='inner') \\\n    .withColumn('class', lit(0))\n    \ndf_class_1 = dft_systemml(x1,'x') \\\n    .join(dft_systemml(y1,'y'), on=['id'], how='inner') \\\n    .join(dft_systemml(z1,'z'), on=['id'], how='inner') \\\n    .withColumn('class', lit(1))\n\ndf_dft = df_class_0.union(df_class_1)\n\ndf_dft.show()"
        }, 
        {
            "source": "Please create a VectorAssembler which consumes the newly created DFT columns and produces a column \u201cfeatures\u201d\n", 
            "cell_type": "markdown", 
            "metadata": {}
        }, 
        {
            "execution_count": 71, 
            "cell_type": "code", 
            "metadata": {}, 
            "outputs": [], 
            "source": "from pyspark.ml.feature import VectorAssembler\nvectorAssembler = VectorAssembler(\n    inputCols=[\"xa\", \"xb\", \"ya\", \"yb\", \"za\", \"zb\"],\n    outputCol=\"features\")"
        }, 
        {
            "source": "Please insatiate a classifier from the SparkML package and assign it to the classifier variable. Make sure to set the \u201cclass\u201d column as target.\n", 
            "cell_type": "markdown", 
            "metadata": {}
        }, 
        {
            "execution_count": 72, 
            "cell_type": "code", 
            "metadata": {}, 
            "outputs": [], 
            "source": "from pyspark.ml.classification import RandomForestClassifier\nclassifier = RandomForestClassifier(labelCol=\"class\", featuresCol=\"features\", numTrees=10)"
        }, 
        {
            "source": "Let\u2019s train and evaluate\u2026\n", 
            "cell_type": "markdown", 
            "metadata": {}
        }, 
        {
            "execution_count": 73, 
            "cell_type": "code", 
            "metadata": {}, 
            "outputs": [], 
            "source": "from pyspark.ml import Pipeline\npipeline = Pipeline(stages=[vectorAssembler, classifier])"
        }, 
        {
            "execution_count": 74, 
            "cell_type": "code", 
            "metadata": {}, 
            "outputs": [], 
            "source": "model = pipeline.fit(df_dft)"
        }, 
        {
            "execution_count": 75, 
            "cell_type": "code", 
            "metadata": {}, 
            "outputs": [], 
            "source": "prediction = model.transform(df_dft)"
        }, 
        {
            "execution_count": 76, 
            "cell_type": "code", 
            "metadata": {}, 
            "outputs": [
                {
                    "output_type": "stream", 
                    "name": "stdout", 
                    "text": "+-----------+-------------------+-------------------+-------------------+--------------------+-------------------+-------------------+-----+--------------------+--------------------+--------------------+----------+\n|         id|                 xa|                 xb|                 ya|                  yb|                 za|                 zb|class|            features|       rawPrediction|         probability|prediction|\n+-----------+-------------------+-------------------+-------------------+--------------------+-------------------+-------------------+-----+--------------------+--------------------+--------------------+----------+\n|         26| -3.360800898664465|-6.3797317149067485| -3.360800898664465| -6.3797317149067485| -3.360800898664465|-6.3797317149067485|    0|[-3.3608008986644...|[9.62854940884657...|[0.96285494088465...|       0.0|\n|         29| -5.417880866455836| -7.919430586183089| -5.047731979774799| -1.1307512205268118| -5.417880866455836| -7.919430586183089|    0|[-5.4178808664558...|[9.62854940884657...|[0.96285494088465...|       0.0|\n| 8589934658|  4.579763037629146|  7.943098790523183|  4.579763037629146|   7.943098790523183|  4.579763037629146|  7.943098790523183|    0|[4.57976303762914...|[9.62854940884657...|[0.96285494088465...|       0.0|\n|17179869487|-10.556550769571798|-13.558586167882687|-10.556550769571798| -13.558586167882687|-10.556550769571798|-13.558586167882687|    0|[-10.556550769571...|[9.42860638281659...|[0.94286063828165...|       0.0|\n|         65| -5.251000332664313|  2.546895000025506|  -7.71014046469968|-0.18711920155456543| -5.251000332664313|  2.546895000025506|    0|[-5.2510003326643...|[9.62854940884657...|[0.96285494088465...|       0.0|\n|        191|-2.8164791697168265|-2.5301118232944386|-2.8164791697168265| -2.5301118232944386|-2.8164791697168265|-2.5301118232944386|    0|[-2.8164791697168...|[9.62854940884657...|[0.96285494088465...|       0.0|\n| 8589934785| -5.617199956723425| 12.237721154081223|-0.5946195724559113|    -5.2947491574761| -5.617199956723425| 12.237721154081223|    0|[-5.6171999567234...|[9.62854940884657...|[0.96285494088465...|       0.0|\n|17179869191| -3.302515440259334| -13.07505009089483| -3.302515440259334|  -13.07505009089483| -3.302515440259334| -13.07505009089483|    0|[-3.3025154402593...|[9.62854940884657...|[0.96285494088465...|       0.0|\n|17179869384| 0.6040148355417065|-1.9234805335260552| 0.6040148355417065| -1.9234805335260552| 0.6040148355417065|-1.9234805335260552|    0|[0.60401483554170...|[9.62854940884657...|[0.96285494088465...|       0.0|\n|25769803846| 16.182159099492566|  5.188520676276266| 16.182159099492566|   5.188520676276266| 16.182159099492566|  5.188520676276266|    0|[16.1821590994925...|[9.31119495926610...|[0.93111949592661...|       0.0|\n|25769803859| -3.363525309265979|  4.210538369658848|   8.54394430007944|  -6.881372790138105|   8.54394430007944| -6.881372790138105|    0|[-3.3635253092659...|[9.62854940884657...|[0.96285494088465...|       0.0|\n|25769803984|  -8.58338347436126|  3.040530076102451|  -8.58338347436126|   3.040530076102451|  -8.58338347436126|  3.040530076102451|    0|[-8.5833834743612...|[9.62854940884657...|[0.96285494088465...|       0.0|\n|25769804049| -9.614694018459236| 3.6745261545706667| -9.614694018459236|  3.6745261545706667| -9.614694018459236| 3.6745261545706667|    0|[-9.6146940184592...|[9.62854940884657...|[0.96285494088465...|       0.0|\n|        222| 1.8336539759998844|  5.985688200261561| 1.8336539759998844|   5.985688200261561| 1.8336539759998844|  5.985688200261561|    0|[1.83365397599988...|[9.62854940884657...|[0.96285494088465...|       0.0|\n|        270| -7.808590010382046| -2.833917177849836|   5.42590644529074|   6.173367146587013| -7.808590010382046| -2.833917177849836|    0|[-7.8085900103820...|[9.62854940884657...|[0.96285494088465...|       0.0|\n|        293|-0.9182250413270229|  4.690837860135984|-0.9182250413270229|   4.690837860135984|-0.9182250413270229|  4.690837860135984|    0|[-0.9182250413270...|[9.62854940884657...|[0.96285494088465...|       0.0|\n|17179869241| 0.4353215919237369| 16.454054434816438| 12.626520761546784|   5.160268790212876| 0.4353215919237369| 16.454054434816438|    0|[0.43532159192373...|[9.30760486245638...|[0.93076048624563...|       0.0|\n|17179869405| 3.4709340274138483| 2.6557211021637723| 3.4709340274138483|  2.6557211021637723| 3.4709340274138483| 2.6557211021637723|    0|[3.47093402741384...|[9.62854940884657...|[0.96285494088465...|       0.0|\n|17179869430|  5.418436226701438|  8.442793646255575|  5.418436226701438|   8.442793646255575|  5.418436226701438|  8.442793646255575|    0|[5.41843622670143...|[9.62854940884657...|[0.96285494088465...|       0.0|\n|17179869435| -8.423238563807086|  6.763539418232842| -8.423238563807086|   6.763539418232842| -8.423238563807086|  6.763539418232842|    0|[-8.4232385638070...|[9.62854940884657...|[0.96285494088465...|       0.0|\n+-----------+-------------------+-------------------+-------------------+--------------------+-------------------+-------------------+-----+--------------------+--------------------+--------------------+----------+\nonly showing top 20 rows\n\n"
                }
            ], 
            "source": "prediction.show()"
        }, 
        {
            "execution_count": 77, 
            "cell_type": "code", 
            "metadata": {}, 
            "outputs": [
                {
                    "execution_count": 77, 
                    "metadata": {}, 
                    "data": {
                        "text/plain": "0.9796205200281096"
                    }, 
                    "output_type": "execute_result"
                }
            ], 
            "source": "from pyspark.ml.evaluation import MulticlassClassificationEvaluator\nbinEval = MulticlassClassificationEvaluator().setMetricName(\"accuracy\") .setPredictionCol(\"prediction\").setLabelCol(\"class\")\n    \nbinEval.evaluate(prediction) "
        }, 
        {
            "source": "If you are happy with the result (I\u2019m happy with > 0.8) please submit your solution to the grader by executing the following cells, please don\u2019t forget to obtain an assignment submission token (secret) from the Courera\u2019s graders web page and paste it to the \u201csecret\u201d variable below, including your email address you\u2019ve used for Coursera. \n", 
            "cell_type": "markdown", 
            "metadata": {}
        }, 
        {
            "execution_count": 78, 
            "cell_type": "code", 
            "metadata": {}, 
            "outputs": [], 
            "source": "!rm -Rf a2_m4.json"
        }, 
        {
            "execution_count": 79, 
            "cell_type": "code", 
            "metadata": {}, 
            "outputs": [], 
            "source": "prediction = prediction.repartition(1)\nprediction.write.json('a2_m4.json')"
        }, 
        {
            "execution_count": 80, 
            "cell_type": "code", 
            "metadata": {}, 
            "outputs": [
                {
                    "output_type": "stream", 
                    "name": "stdout", 
                    "text": "--2018-07-29 08:59:23--  https://raw.githubusercontent.com/romeokienzler/developerWorks/master/coursera/ai/rklib.py\nResolving raw.githubusercontent.com (raw.githubusercontent.com)... 151.101.48.133\nConnecting to raw.githubusercontent.com (raw.githubusercontent.com)|151.101.48.133|:443... connected.\nHTTP request sent, awaiting response... 200 OK\nLength: 2029 (2.0K) [text/plain]\nSaving to: \u2018rklib.py\u2019\n\n100%[======================================>] 2,029       --.-K/s   in 0s      \n\n2018-07-29 08:59:24 (17.6 MB/s) - \u2018rklib.py\u2019 saved [2029/2029]\n\n"
                }
            ], 
            "source": "!rm -f rklib.py\n!wget https://raw.githubusercontent.com/romeokienzler/developerWorks/master/coursera/ai/rklib.py"
        }, 
        {
            "execution_count": 81, 
            "cell_type": "code", 
            "metadata": {}, 
            "outputs": [
                {
                    "output_type": "stream", 
                    "name": "stdout", 
                    "text": "  adding: a2_m4.json/ (stored 0%)\n  adding: a2_m4.json/_SUCCESS (stored 0%)\n  adding: a2_m4.json/.part-00000-0d2f190c-397a-4616-bde6-dac241d3283c.json.crc (stored 0%)\n  adding: a2_m4.json/._SUCCESS.crc (stored 0%)\n  adding: a2_m4.json/part-00000-0d2f190c-397a-4616-bde6-dac241d3283c.json (deflated 87%)\n"
                }
            ], 
            "source": "!zip -r a2_m4.json.zip a2_m4.json"
        }, 
        {
            "execution_count": 82, 
            "cell_type": "code", 
            "metadata": {}, 
            "outputs": [], 
            "source": "!base64 a2_m4.json.zip > a2_m4.json.zip.base64"
        }, 
        {
            "execution_count": 83, 
            "cell_type": "code", 
            "metadata": {}, 
            "outputs": [
                {
                    "output_type": "stream", 
                    "name": "stdout", 
                    "text": "Submission successful, please check on the coursera grader page for the status\n"
                }
            ], 
            "source": "from rklib import submit\nkey = \"-fBiYHYDEeiR4QqiFhAvkA\"\npart = \"IjtJk\"\nemail = \"rukmani.ece@rmd.ac.in\"\nsecret = \"s5LQzwAnqEzXiO56\"\n\nwith open('a2_m4.json.zip.base64', 'r') as myfile:\n    data=myfile.read()\nsubmit(email, secret, key, part, [part], data)"
        }, 
        {
            "execution_count": null, 
            "cell_type": "code", 
            "metadata": {}, 
            "outputs": [], 
            "source": ""
        }
    ], 
    "metadata": {
        "kernelspec": {
            "display_name": "Python 3.5 with Spark 2.1", 
            "name": "python3-spark21", 
            "language": "python"
        }, 
        "language_info": {
            "mimetype": "text/x-python", 
            "nbconvert_exporter": "python", 
            "version": "3.5.4", 
            "name": "python", 
            "file_extension": ".py", 
            "pygments_lexer": "ipython3", 
            "codemirror_mode": {
                "version": 3, 
                "name": "ipython"
            }
        }
    }, 
    "nbformat": 4
}
